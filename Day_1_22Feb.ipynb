{
 "cells": [
  {
   "cell_type": "code",
   "execution_count": 1,
   "id": "superb-branch",
   "metadata": {},
   "outputs": [
    {
     "name": "stdout",
     "output_type": "stream",
     "text": [
      "Hello, World\n"
     ]
    }
   ],
   "source": [
    "print(\"Hello, World\")"
   ]
  },
  {
   "cell_type": "code",
   "execution_count": 2,
   "id": "third-potter",
   "metadata": {},
   "outputs": [
    {
     "data": {
      "text/plain": [
       "'\\nthis is a multi line\\ncomment using 3 qoutes\\n'"
      ]
     },
     "execution_count": 2,
     "metadata": {},
     "output_type": "execute_result"
    }
   ],
   "source": [
    "# commenting in python\n",
    "# this is a single line comment\n",
    "\"\"\"\n",
    "this is a multi line\n",
    "comment using 3 qoutes\n",
    "\"\"\""
   ]
  },
  {
   "cell_type": "code",
   "execution_count": 3,
   "id": "printable-marking",
   "metadata": {},
   "outputs": [
    {
     "name": "stdout",
     "output_type": "stream",
     "text": [
      "<class 'int'>\n",
      "<class 'float'>\n",
      "<class 'str'>\n",
      "<class 'bool'>\n"
     ]
    }
   ],
   "source": [
    "# variables in python\n",
    "\"\"\"\n",
    "we can use the variable in python\n",
    "without specifying the data type.\n",
    "\"\"\"\n",
    "a = 13\n",
    "b = 23.12\n",
    "c = \"Guri\"\n",
    "d = True\n",
    "# print(a, b, c)\n",
    "print(type(a))\n",
    "print(type(b))\n",
    "print(type(c))\n",
    "print(type(d))"
   ]
  },
  {
   "cell_type": "code",
   "execution_count": 4,
   "id": "transparent-numbers",
   "metadata": {},
   "outputs": [
    {
     "name": "stdout",
     "output_type": "stream",
     "text": [
      "a is an integeral data type, a =  12\n",
      "b in a float data type, b =  12.234\n",
      "c is a string data type, c =  string using python\n",
      "False\n",
      "True\n"
     ]
    }
   ],
   "source": [
    "# data types in python\n",
    "\"\"\"\n",
    "there are various data types available in python.\n",
    "basic data types - int, float, char, str, bool\n",
    "\"\"\"\n",
    "# integer\n",
    "a = 12\n",
    "print(\"a is an integeral data type, a = \", a)\n",
    "b = 12.234\n",
    "print(\"b in a float data type, b = \",b)\n",
    "c = \"string using python\"\n",
    "print(\"c is a string data type, c = \", c)\n",
    "\n",
    "x , y = 12, 13\n",
    "print(x==y)\n",
    "print(x!=y)"
   ]
  },
  {
   "cell_type": "code",
   "execution_count": 5,
   "id": "smooth-crazy",
   "metadata": {},
   "outputs": [
    {
     "name": "stdout",
     "output_type": "stream",
     "text": [
      "<class 'int'>\n",
      "10\n",
      "10.0\n",
      "<class 'int'>\n",
      "<class 'float'>\n",
      "<class 'str'>\n",
      "(10+0j)\n",
      "<class 'complex'>\n"
     ]
    }
   ],
   "source": [
    "# type casting in python\n",
    "\"\"\"\n",
    "we can change the data type in python\n",
    "using type casting\n",
    "\"\"\"\n",
    "x = 10\n",
    "print(type(x))\n",
    "print(str(x))\n",
    "print(float(x))\n",
    "print(type(x))\n",
    "\"\"\"\n",
    "but this type casting is temporary\n",
    "we can do it permanent as follows\n",
    "\"\"\"\n",
    "x = float(x)\n",
    "print(type(x))\n",
    "\"\"\"\n",
    "now we can see that type has changed \n",
    "permanently to float\n",
    "\"\"\"\n",
    "x = str(x)\n",
    "print(type(x))\n",
    "x = complex(x)\n",
    "print(x)\n",
    "print(type(x))"
   ]
  },
  {
   "cell_type": "code",
   "execution_count": 6,
   "id": "consolidated-meditation",
   "metadata": {},
   "outputs": [
    {
     "name": "stdout",
     "output_type": "stream",
     "text": [
      "30\n",
      "10\n",
      "200\n",
      "2.0\n",
      "2\n",
      "0\n",
      "a > 5 and b <25\n",
      "True\n",
      "a >5 or b > 25\n",
      "True\n"
     ]
    }
   ],
   "source": [
    "# operators in python\n",
    "\"\"\"\n",
    "1 assignment  =, -=, +=, /=, //= \n",
    "2 arithmatic  +, -. *, /, //, % \n",
    "3 logical     or not and\n",
    "4 comparison  ==, !=, >, <, <=, >= \n",
    "\"\"\"\n",
    "x, y = 20, 10 #assignment operator =\n",
    "print(x+y)  #30\n",
    "print(x-y)  #-10\n",
    "print(x*y)  #200\n",
    "print(x/y)  #2.0\n",
    "print(x//y) #2\n",
    "print(x%y)  #0\n",
    "a, b = 10, 20\n",
    "print(\"a > 5 and b <25\")\n",
    "print(a > 5 and b <25)\n",
    "print(\"a >5 or b > 25\")\n",
    "print(a >5 or b > 25) "
   ]
  },
  {
   "cell_type": "code",
   "execution_count": 16,
   "id": "polar-barcelona",
   "metadata": {},
   "outputs": [
    {
     "name": "stdout",
     "output_type": "stream",
     "text": [
      "['a', 'b', 'c', 'd', 'a', 'c']\n",
      "['a', 1, 'b', 2, 'c', True, 'Multiple data types']\n",
      "7\n"
     ]
    }
   ],
   "source": [
    "# lists in python\n",
    "\"\"\"\n",
    "list can be declared in [] \n",
    "and \n",
    "lists are ordered\n",
    "lists are mutable ie can be changed\n",
    "lits allows duplicate values\n",
    "list can store multiple datatypes\n",
    "\"\"\"\n",
    "my_list = [\"a\",\"b\",\"c\",\"d\",\"a\",\"c\"]\n",
    "print(my_list)\n",
    "my_list_1 = [\"a\",1,\"b\",2,\"c\", True, \"Multiple data types\"]\n",
    "print(my_list_1)\n",
    "print(len(my_list_1))"
   ]
  },
  {
   "cell_type": "code",
   "execution_count": 8,
   "id": "expected-specialist",
   "metadata": {},
   "outputs": [
    {
     "name": "stdout",
     "output_type": "stream",
     "text": [
      "a\n",
      "b\n",
      "d\n"
     ]
    }
   ],
   "source": [
    "# printing specific index value\n",
    "\n",
    "my_list = [\"a\",\"b\",\"c\",\"d\",\"a\",\"c\"]\n",
    "print(my_list[0])\n",
    "print(my_list[1])\n",
    "print(my_list[3])"
   ]
  },
  {
   "cell_type": "code",
   "execution_count": 10,
   "id": "complete-angola",
   "metadata": {},
   "outputs": [
    {
     "name": "stdout",
     "output_type": "stream",
     "text": [
      "['a', 'new value', 'c', 'd', 'a', 'c']\n"
     ]
    }
   ],
   "source": [
    "# changing the value at some specific index\n",
    "\n",
    "my_list = [\"a\",\"b\",\"c\",\"d\",\"a\",\"c\"]\n",
    "my_list[1] = \"new value\"\n",
    "print(my_list)"
   ]
  },
  {
   "cell_type": "code",
   "execution_count": 15,
   "id": "honey-garage",
   "metadata": {},
   "outputs": [
    {
     "name": "stdout",
     "output_type": "stream",
     "text": [
      "['c', 'a', 'd', 'c', 'b', 'a']\n",
      "['a', 'b', 'c', 'd', 'a']\n",
      "['a', 'c', 'a']\n"
     ]
    }
   ],
   "source": [
    "# string slicing\n",
    "\n",
    "my_list = [\"a\",\"b\",\"c\",\"d\",\"a\",\"c\"]\n",
    "print(my_list[::-1])\n",
    "print(my_list[-7:-1])\n",
    "print(my_list[0:5:2])"
   ]
  },
  {
   "cell_type": "code",
   "execution_count": 21,
   "id": "golden-stack",
   "metadata": {},
   "outputs": [
    {
     "name": "stdout",
     "output_type": "stream",
     "text": [
      "[1, 2, 3, 4, 5, 6]\n",
      "[1, 2, 3, 4, 5, 6, 100]\n"
     ]
    }
   ],
   "source": [
    "# append -> adds the element at last position\n",
    "\n",
    "my_list = [1,2,3,4,5,6]\n",
    "print(my_list)\n",
    "my_list.append(100)\n",
    "print(my_list)"
   ]
  },
  {
   "cell_type": "code",
   "execution_count": 24,
   "id": "pressing-rescue",
   "metadata": {},
   "outputs": [
    {
     "name": "stdout",
     "output_type": "stream",
     "text": [
      "[1, 2, 3, 4, 5, 6]\n",
      "[1, 2, 3, 4, 5, 6, 100, 200, 300]\n"
     ]
    }
   ],
   "source": [
    "# extend -> extends the list of one or more elements\n",
    "\n",
    "my_list = [1,2,3,4,5,6]\n",
    "print(my_list)\n",
    "my_list.extend([100,200,300])\n",
    "print(my_list)\n"
   ]
  },
  {
   "cell_type": "code",
   "execution_count": 26,
   "id": "victorian-outreach",
   "metadata": {},
   "outputs": [
    {
     "name": "stdout",
     "output_type": "stream",
     "text": [
      "[1, 2, 3, 4, 5, 6]\n",
      "[100, 1, 2, 3, 4, 5, 6]\n"
     ]
    }
   ],
   "source": [
    "# insert operation -> adds the element at specified position\n",
    "\n",
    "my_list = [1,2,3,4,5,6]\n",
    "print(my_list)\n",
    "my_list.insert(0,100)\n",
    "print(my_list)"
   ]
  },
  {
   "cell_type": "code",
   "execution_count": 28,
   "id": "comfortable-details",
   "metadata": {},
   "outputs": [
    {
     "name": "stdout",
     "output_type": "stream",
     "text": [
      "[1, 2, 3, 4, 5, 6]\n",
      "[2, 3, 4, 5, 6]\n"
     ]
    }
   ],
   "source": [
    "# pop -> it removes the specific element's position\n",
    "\n",
    "my_list = [1,2,3,4,5,6]\n",
    "print(my_list)\n",
    "my_list.pop(0)\n",
    "print(my_list)"
   ]
  },
  {
   "cell_type": "code",
   "execution_count": 30,
   "id": "original-helen",
   "metadata": {},
   "outputs": [
    {
     "name": "stdout",
     "output_type": "stream",
     "text": [
      "[6, 7, 9, 3, 5, 1]\n",
      "[1, 3, 5, 6, 7, 9]\n",
      "['a', 'b', 'c', 'f', 'm', 'q', 't']\n"
     ]
    }
   ],
   "source": [
    "# sort -> used to sort the element of a list\n",
    "\n",
    "my_list = [6,7,9,3,5,1]\n",
    "print(my_list)\n",
    "my_list.sort()\n",
    "print(my_list)\n",
    "\n",
    "my_list_1 = [\"b\",\"a\",\"m\",\"t\",\"q\",\"f\",\"c\"]\n",
    "my_list_1.sort()\n",
    "print(my_list_1)\n"
   ]
  },
  {
   "cell_type": "code",
   "execution_count": 32,
   "id": "overall-testing",
   "metadata": {},
   "outputs": [
    {
     "name": "stdout",
     "output_type": "stream",
     "text": [
      "[1, 2, 3, 4, 5, 6]\n",
      "[6, 5, 4, 3, 2, 1]\n"
     ]
    }
   ],
   "source": [
    "# reverse -> reverses the list from last to first\n",
    "\n",
    "my_list = [1,2,3,4,5,6]\n",
    "print(my_list)\n",
    "my_list.reverse()\n",
    "print(my_list)"
   ]
  },
  {
   "cell_type": "code",
   "execution_count": 33,
   "id": "invalid-vertex",
   "metadata": {},
   "outputs": [
    {
     "name": "stdout",
     "output_type": "stream",
     "text": [
      "[1, 2, 3, 4, 5, 6]\n",
      "[]\n"
     ]
    }
   ],
   "source": [
    "# clear -> clears the list element\n",
    "\n",
    "my_list = [1,2,3,4,5,6]\n",
    "print(my_list)\n",
    "my_list.clear()\n",
    "print(my_list)"
   ]
  },
  {
   "cell_type": "code",
   "execution_count": 37,
   "id": "spectacular-chase",
   "metadata": {},
   "outputs": [
    {
     "name": "stdout",
     "output_type": "stream",
     "text": [
      "[1, 2, 3, 4, 5, 6]\n",
      "[1, 2, 3, 4, 5, 6]\n",
      "[6, 5, 4, 3, 2, 1]\n",
      "[1, 2, 3, 4, 5, 6]\n"
     ]
    }
   ],
   "source": [
    "# copy -> creates a copy of a list\n",
    "\n",
    "my_list = [1,2,3,4,5,6]\n",
    "print(my_list)\n",
    "my_list_2 = my_list.copy()\n",
    "print(my_list_2)\n",
    "my_list_2.reverse()\n",
    "print(my_list_2)"
   ]
  },
  {
   "cell_type": "code",
   "execution_count": 47,
   "id": "coordinated-edwards",
   "metadata": {},
   "outputs": [
    {
     "name": "stdout",
     "output_type": "stream",
     "text": [
      "6\n"
     ]
    }
   ],
   "source": [
    "# count -> counts the elements in a list how many available\n",
    "\n",
    "my_list = [1,2,3,4,5,6,1,1,1,1,1]\n",
    "print(my_list.count(1))"
   ]
  },
  {
   "cell_type": "code",
   "execution_count": 48,
   "id": "living-objective",
   "metadata": {},
   "outputs": [
    {
     "name": "stdout",
     "output_type": "stream",
     "text": [
      "[1, 2, 3, 4, 5, 6, 'A', 'B', 'C', 'D']\n"
     ]
    }
   ],
   "source": [
    "# joining two lists\n",
    "my_list = [1,2,3,4,5,6]\n",
    "my_list_2 = [\"A\",\"B\",\"C\",\"D\"]\n",
    "print(my_list+my_list_2)\n"
   ]
  },
  {
   "cell_type": "code",
   "execution_count": 1,
   "id": "equivalent-olive",
   "metadata": {},
   "outputs": [
    {
     "name": "stdout",
     "output_type": "stream",
     "text": [
      "['a', 'b', 'c', 'd']\n"
     ]
    }
   ],
   "source": [
    "# upper/lower in lists\n",
    "my_list_2 = [\"A\",\"B\",\"C\",\"D\"]\n",
    "emp_list = []\n",
    "for i in my_list_2:\n",
    "    emp_list.append(i.lower())\n",
    "print(emp_list)    "
   ]
  }
 ],
 "metadata": {
  "kernelspec": {
   "display_name": "Python 3",
   "language": "python",
   "name": "python3"
  },
  "language_info": {
   "codemirror_mode": {
    "name": "ipython",
    "version": 3
   },
   "file_extension": ".py",
   "mimetype": "text/x-python",
   "name": "python",
   "nbconvert_exporter": "python",
   "pygments_lexer": "ipython3",
   "version": "3.9.1"
  }
 },
 "nbformat": 4,
 "nbformat_minor": 5
}
