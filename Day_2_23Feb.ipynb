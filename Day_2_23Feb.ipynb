{
 "cells": [
  {
   "cell_type": "code",
   "execution_count": 37,
   "id": "logical-minnesota",
   "metadata": {},
   "outputs": [
    {
     "name": "stdout",
     "output_type": "stream",
     "text": [
      "('A', 'B', 'C', 1, 2, 3, True)\n",
      "<class 'tuple'>\n"
     ]
    }
   ],
   "source": [
    "# tuples in python -> ()\n",
    "\"\"\"\n",
    "tuples - \n",
    "immutable ie cant be changed\n",
    "ordered\n",
    "can have multuple data types\n",
    "cant delete/add items \n",
    "can only add a tuple inside a tuple\n",
    "T->L[updates in list]->T\n",
    "\"\"\"\n",
    "my_tuple = (\"A\", \"B\", \"C\",1,2,3,True)\n",
    "print(my_tuple)\n",
    "print(type(my_tuple))"
   ]
  },
  {
   "cell_type": "code",
   "execution_count": 6,
   "id": "crazy-digest",
   "metadata": {},
   "outputs": [
    {
     "name": "stdout",
     "output_type": "stream",
     "text": [
      "7\n"
     ]
    }
   ],
   "source": [
    "print(len(my_tuple))"
   ]
  },
  {
   "cell_type": "code",
   "execution_count": 5,
   "id": "blind-quilt",
   "metadata": {},
   "outputs": [
    {
     "name": "stdout",
     "output_type": "stream",
     "text": [
      "('A', 'B', 'C', 1, 2, 3, True)\n",
      "B\n",
      "C\n"
     ]
    }
   ],
   "source": [
    "# accessing the elements in tuple -> print(tuple_name[element index])\n",
    "\n",
    "print(my_tuple)\n",
    "print(my_tuple[1])\n",
    "print(my_tuple[2])"
   ]
  },
  {
   "cell_type": "code",
   "execution_count": 7,
   "id": "automotive-walker",
   "metadata": {},
   "outputs": [
    {
     "name": "stdout",
     "output_type": "stream",
     "text": [
      "('A', 'B', 'C', 1, 2, 3, True)\n"
     ]
    },
    {
     "ename": "TypeError",
     "evalue": "'tuple' object does not support item assignment",
     "output_type": "error",
     "traceback": [
      "\u001b[1;31m---------------------------------------------------------------------------\u001b[0m",
      "\u001b[1;31mTypeError\u001b[0m                                 Traceback (most recent call last)",
      "\u001b[1;32m<ipython-input-7-461d928d0284>\u001b[0m in \u001b[0;36m<module>\u001b[1;34m\u001b[0m\n\u001b[0;32m      1\u001b[0m \u001b[1;31m# trying to change the element in tuple\u001b[0m\u001b[1;33m\u001b[0m\u001b[1;33m\u001b[0m\u001b[1;33m\u001b[0m\u001b[0m\n\u001b[0;32m      2\u001b[0m \u001b[0mprint\u001b[0m\u001b[1;33m(\u001b[0m\u001b[0mmy_tuple\u001b[0m\u001b[1;33m)\u001b[0m\u001b[1;33m\u001b[0m\u001b[1;33m\u001b[0m\u001b[0m\n\u001b[1;32m----> 3\u001b[1;33m \u001b[0mmy_tuple\u001b[0m\u001b[1;33m[\u001b[0m\u001b[1;36m1\u001b[0m\u001b[1;33m]\u001b[0m\u001b[1;33m=\u001b[0m\u001b[1;34m\"Z\"\u001b[0m\u001b[1;33m\u001b[0m\u001b[1;33m\u001b[0m\u001b[0m\n\u001b[0m",
      "\u001b[1;31mTypeError\u001b[0m: 'tuple' object does not support item assignment"
     ]
    }
   ],
   "source": [
    "# trying to change the element in tuple\n",
    "\n",
    "print(my_tuple)\n",
    "my_tuple[1]=\"Z\""
   ]
  },
  {
   "cell_type": "code",
   "execution_count": 28,
   "id": "union-magazine",
   "metadata": {},
   "outputs": [
    {
     "name": "stdout",
     "output_type": "stream",
     "text": [
      "('A', 'B', 'C', 1, 2, 3, True)\n",
      "['A', 'B', 1, 2, 100, False]\n",
      "('A', 'B', 1, 2, 100, False)\n"
     ]
    }
   ],
   "source": [
    "# to update the elements we can follow -> T->L->T\n",
    "\n",
    "\"\"\"\n",
    "change to list then update\n",
    "make it tuple again\n",
    "\"\"\"\n",
    "print(my_tuple)\n",
    "my_list = list(my_tuple)\n",
    "my_list[-1] = False\n",
    "my_list[-2] = 100\n",
    "my_list.pop(2)\n",
    "print(my_list)\n",
    "my_tuple = tuple(my_list)\n",
    "print(my_tuple)"
   ]
  },
  {
   "cell_type": "code",
   "execution_count": 29,
   "id": "cognitive-nelson",
   "metadata": {},
   "outputs": [
    {
     "name": "stdout",
     "output_type": "stream",
     "text": [
      "('A', 'B', 1, 2, 100, False)\n",
      "('A', 'B', 1, 2, 100)\n",
      "('A', 1, 100)\n"
     ]
    }
   ],
   "source": [
    "# slicing in tuple -> print(tuple_name[start_index:end_index:jump])\n",
    "\n",
    "print(my_tuple[:])\n",
    "print(my_tuple[-7:-1])\n",
    "print(my_tuple[0:8:2])"
   ]
  },
  {
   "cell_type": "code",
   "execution_count": 38,
   "id": "alpine-pakistan",
   "metadata": {},
   "outputs": [
    {
     "name": "stdout",
     "output_type": "stream",
     "text": [
      "('A', 'B', 'C', 1, 2, 3, True)\n",
      "('A', 'B', 'C', 1, 2, 3, True, 'A', 'B', 'C', 1, 2, 3, True)\n"
     ]
    }
   ],
   "source": [
    "# multiplying the content of tuple -> tuple_name*N =N 1....n-1\n",
    "\n",
    "print(my_tuple)\n",
    "my_tuple = my_tuple * 2\n",
    "print(my_tuple)"
   ]
  },
  {
   "cell_type": "code",
   "execution_count": 9,
   "id": "olive-decision",
   "metadata": {},
   "outputs": [
    {
     "name": "stdout",
     "output_type": "stream",
     "text": [
      "('A', 'B', 'C', 1, 2, 3, True)\n",
      "(1, 2, 3, 4)\n",
      "('A', 'B', 'C', 1, 2, 3, True, 1, 2, 3, 4)\n"
     ]
    }
   ],
   "source": [
    "# joining the tuples -> tuple_name = tuple1+tuple2+...+tupleN\n",
    "\n",
    "\"\"\"\n",
    "we can only join the tuple in a tuple \n",
    "but it doesnt allow us to add/remove elements\n",
    "\"\"\"\n",
    "print(my_tuple)\n",
    "my_tuple_1 = (1,2,3,4)\n",
    "print(my_tuple_1)\n",
    "my_tuple = my_tuple+my_tuple_1\n",
    "print(my_tuple)"
   ]
  },
  {
   "cell_type": "code",
   "execution_count": 10,
   "id": "colored-clerk",
   "metadata": {},
   "outputs": [
    {
     "name": "stdout",
     "output_type": "stream",
     "text": [
      "('A', 'B', 'C', 1, 2, 3, True, 1, 2, 3, 4)\n"
     ]
    }
   ],
   "source": [
    "# deleting a tuple -> del(tuple_name)\n",
    "\n",
    "print(my_tuple)\n",
    "del(my_tuple)"
   ]
  },
  {
   "cell_type": "code",
   "execution_count": 39,
   "id": "therapeutic-relevance",
   "metadata": {},
   "outputs": [
    {
     "name": "stdout",
     "output_type": "stream",
     "text": [
      "A is present in the tuple\n",
      "A\n",
      "B\n",
      "C\n",
      "1\n",
      "2\n",
      "3\n",
      "4\n"
     ]
    }
   ],
   "source": [
    "# iterating throught the tuples\n",
    "\"\"\"\n",
    "if/for/while etc can be used to iteration\n",
    "\"\"\"\n",
    "my_tuple = (\"A\",\"B\",\"C\",1,2,3,4)\n",
    "\n",
    "if \"A\" in my_tuple:\n",
    "    print(\"A is present in the tuple\")\n",
    "\n",
    "for i in my_tuple:\n",
    "    print(i)\n"
   ]
  },
  {
   "cell_type": "code",
   "execution_count": null,
   "id": "happy-novelty",
   "metadata": {},
   "outputs": [],
   "source": []
  },
  {
   "cell_type": "code",
   "execution_count": 42,
   "id": "contained-highway",
   "metadata": {},
   "outputs": [
    {
     "name": "stdout",
     "output_type": "stream",
     "text": [
      "('A', 'B', 'C', 1, 2, 3, 4, 1, 1, 1, 1)\n",
      "5\n"
     ]
    }
   ],
   "source": [
    "# methods in tuple count, index\n",
    "\n",
    "\"\"\"\n",
    "count -> tuple_name.count(value)\n",
    "to count the value how many times it presents\n",
    "\"\"\"\n",
    "my_tuple = (\"A\",\"B\",\"C\",1,2,3,4,1,1,1,1)\n",
    "print(my_tuple)\n",
    "\n",
    "print(my_tuple.count(1))\n"
   ]
  },
  {
   "cell_type": "code",
   "execution_count": 49,
   "id": "defensive-london",
   "metadata": {},
   "outputs": [
    {
     "name": "stdout",
     "output_type": "stream",
     "text": [
      "('A', 'B', 'C', 1, 2, 3, 4, 1, 1, 1, 1)\n",
      "3\n"
     ]
    }
   ],
   "source": [
    "# index to search through the index of a tuple -> tuple_name.index(value)\n",
    "\n",
    "\"\"\"\n",
    "it returns the position of the value\n",
    "\"\"\"\n",
    "print(my_tuple)\n",
    "print(my_tuple.index(1))"
   ]
  }
 ],
 "metadata": {
  "kernelspec": {
   "display_name": "Python 3",
   "language": "python",
   "name": "python3"
  },
  "language_info": {
   "codemirror_mode": {
    "name": "ipython",
    "version": 3
   },
   "file_extension": ".py",
   "mimetype": "text/x-python",
   "name": "python",
   "nbconvert_exporter": "python",
   "pygments_lexer": "ipython3",
   "version": "3.9.1"
  }
 },
 "nbformat": 4,
 "nbformat_minor": 5
}
