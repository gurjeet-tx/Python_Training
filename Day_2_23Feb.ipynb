{
 "cells": [
  {
   "cell_type": "code",
   "execution_count": 37,
   "id": "logical-minnesota",
   "metadata": {},
   "outputs": [
    {
     "name": "stdout",
     "output_type": "stream",
     "text": [
      "('A', 'B', 'C', 1, 2, 3, True)\n",
      "<class 'tuple'>\n"
     ]
    }
   ],
   "source": [
    "# tuples in python -> ()\n",
    "\"\"\"\n",
    "tuples - \n",
    "immutable ie cant be changed\n",
    "ordered\n",
    "can have multuple data types\n",
    "cant delete/add items \n",
    "can only add a tuple inside a tuple\n",
    "T->L[updates in list]->T\n",
    "\"\"\"\n",
    "my_tuple = (\"A\", \"B\", \"C\",1,2,3,True)\n",
    "print(my_tuple)\n",
    "print(type(my_tuple))"
   ]
  },
  {
   "cell_type": "code",
   "execution_count": 6,
   "id": "crazy-digest",
   "metadata": {},
   "outputs": [
    {
     "name": "stdout",
     "output_type": "stream",
     "text": [
      "7\n"
     ]
    }
   ],
   "source": [
    "print(len(my_tuple))"
   ]
  },
  {
   "cell_type": "code",
   "execution_count": 5,
   "id": "personal-naples",
   "metadata": {},
   "outputs": [
    {
     "name": "stdout",
     "output_type": "stream",
     "text": [
      "('A', 'B', 'C', 1, 2, 3, True)\n",
      "B\n",
      "C\n"
     ]
    }
   ],
   "source": [
    "# accessing the elements in tuple -> print(tuple_name[element index])\n",
    "\n",
    "print(my_tuple)\n",
    "print(my_tuple[1])\n",
    "print(my_tuple[2])"
   ]
  },
  {
   "cell_type": "code",
   "execution_count": 7,
   "id": "sexual-shade",
   "metadata": {},
   "outputs": [
    {
     "name": "stdout",
     "output_type": "stream",
     "text": [
      "('A', 'B', 'C', 1, 2, 3, True)\n"
     ]
    },
    {
     "ename": "TypeError",
     "evalue": "'tuple' object does not support item assignment",
     "output_type": "error",
     "traceback": [
      "\u001b[1;31m---------------------------------------------------------------------------\u001b[0m",
      "\u001b[1;31mTypeError\u001b[0m                                 Traceback (most recent call last)",
      "\u001b[1;32m<ipython-input-7-461d928d0284>\u001b[0m in \u001b[0;36m<module>\u001b[1;34m\u001b[0m\n\u001b[0;32m      1\u001b[0m \u001b[1;31m# trying to change the element in tuple\u001b[0m\u001b[1;33m\u001b[0m\u001b[1;33m\u001b[0m\u001b[1;33m\u001b[0m\u001b[0m\n\u001b[0;32m      2\u001b[0m \u001b[0mprint\u001b[0m\u001b[1;33m(\u001b[0m\u001b[0mmy_tuple\u001b[0m\u001b[1;33m)\u001b[0m\u001b[1;33m\u001b[0m\u001b[1;33m\u001b[0m\u001b[0m\n\u001b[1;32m----> 3\u001b[1;33m \u001b[0mmy_tuple\u001b[0m\u001b[1;33m[\u001b[0m\u001b[1;36m1\u001b[0m\u001b[1;33m]\u001b[0m\u001b[1;33m=\u001b[0m\u001b[1;34m\"Z\"\u001b[0m\u001b[1;33m\u001b[0m\u001b[1;33m\u001b[0m\u001b[0m\n\u001b[0m",
      "\u001b[1;31mTypeError\u001b[0m: 'tuple' object does not support item assignment"
     ]
    }
   ],
   "source": [
    "# trying to change the element in tuple\n",
    "\n",
    "print(my_tuple)\n",
    "my_tuple[1]=\"Z\""
   ]
  },
  {
   "cell_type": "code",
   "execution_count": 28,
   "id": "appointed-rubber",
   "metadata": {},
   "outputs": [
    {
     "name": "stdout",
     "output_type": "stream",
     "text": [
      "('A', 'B', 'C', 1, 2, 3, True)\n",
      "['A', 'B', 1, 2, 100, False]\n",
      "('A', 'B', 1, 2, 100, False)\n"
     ]
    }
   ],
   "source": [
    "# to update the elements we can follow -> T->L->T\n",
    "\n",
    "\"\"\"\n",
    "change to list then update\n",
    "make it tuple again\n",
    "\"\"\"\n",
    "print(my_tuple)\n",
    "my_list = list(my_tuple)\n",
    "my_list[-1] = False\n",
    "my_list[-2] = 100\n",
    "my_list.pop(2)\n",
    "print(my_list)\n",
    "my_tuple = tuple(my_list)\n",
    "print(my_tuple)"
   ]
  },
  {
   "cell_type": "code",
   "execution_count": 29,
   "id": "first-administrator",
   "metadata": {},
   "outputs": [
    {
     "name": "stdout",
     "output_type": "stream",
     "text": [
      "('A', 'B', 1, 2, 100, False)\n",
      "('A', 'B', 1, 2, 100)\n",
      "('A', 1, 100)\n"
     ]
    }
   ],
   "source": [
    "# slicing in tuple -> print(tuple_name[start_index:end_index:jump])\n",
    "\n",
    "print(my_tuple[:])\n",
    "print(my_tuple[-7:-1])\n",
    "print(my_tuple[0:8:2])"
   ]
  },
  {
   "cell_type": "code",
   "execution_count": 38,
   "id": "stuffed-development",
   "metadata": {},
   "outputs": [
    {
     "name": "stdout",
     "output_type": "stream",
     "text": [
      "('A', 'B', 'C', 1, 2, 3, True)\n",
      "('A', 'B', 'C', 1, 2, 3, True, 'A', 'B', 'C', 1, 2, 3, True)\n"
     ]
    }
   ],
   "source": [
    "# multiplying the content of tuple -> tuple_name*N =N 1....n-1\n",
    "\n",
    "print(my_tuple)\n",
    "my_tuple = my_tuple * 2\n",
    "print(my_tuple)"
   ]
  },
  {
   "cell_type": "code",
   "execution_count": 9,
   "id": "entitled-bullet",
   "metadata": {},
   "outputs": [
    {
     "name": "stdout",
     "output_type": "stream",
     "text": [
      "('A', 'B', 'C', 1, 2, 3, True)\n",
      "(1, 2, 3, 4)\n",
      "('A', 'B', 'C', 1, 2, 3, True, 1, 2, 3, 4)\n"
     ]
    }
   ],
   "source": [
    "# joining the tuples -> tuple_name = tuple1+tuple2+...+tupleN\n",
    "\n",
    "\"\"\"\n",
    "we can only join the tuple in a tuple \n",
    "but it doesnt allow us to add/remove elements\n",
    "\"\"\"\n",
    "print(my_tuple)\n",
    "my_tuple_1 = (1,2,3,4)\n",
    "print(my_tuple_1)\n",
    "my_tuple = my_tuple+my_tuple_1\n",
    "print(my_tuple)"
   ]
  },
  {
   "cell_type": "code",
   "execution_count": 10,
   "id": "superior-notification",
   "metadata": {},
   "outputs": [
    {
     "name": "stdout",
     "output_type": "stream",
     "text": [
      "('A', 'B', 'C', 1, 2, 3, True, 1, 2, 3, 4)\n"
     ]
    }
   ],
   "source": [
    "# deleting a tuple -> del(tuple_name)\n",
    "\n",
    "print(my_tuple)\n",
    "del(my_tuple)"
   ]
  },
  {
   "cell_type": "code",
   "execution_count": 110,
   "id": "european-jason",
   "metadata": {},
   "outputs": [
    {
     "name": "stdout",
     "output_type": "stream",
     "text": [
      "A is present in the tuple\n",
      "A\n",
      "B\n",
      "C\n",
      "1\n",
      "2\n",
      "3\n",
      "4\n",
      "0 A\n",
      "1 B\n",
      "2 C\n",
      "3 1\n",
      "4 2\n",
      "5 3\n",
      "6 4\n"
     ]
    }
   ],
   "source": [
    "# iterating throught the tuples\n",
    "\n",
    "\"\"\"\n",
    "if/for/while etc can be used to iteration\n",
    "\"\"\"\n",
    "my_tuple = (\"A\",\"B\",\"C\",1,2,3,4)\n",
    "\n",
    "if \"A\" in my_tuple:\n",
    "    print(\"A is present in the tuple\")\n",
    "\n",
    "for i in my_tuple:\n",
    "    print(i)\n",
    "for index, value in enumerate(my_tuple):\n",
    "    print(index, value)"
   ]
  },
  {
   "cell_type": "code",
   "execution_count": 42,
   "id": "helpful-shape",
   "metadata": {},
   "outputs": [
    {
     "name": "stdout",
     "output_type": "stream",
     "text": [
      "('A', 'B', 'C', 1, 2, 3, 4, 1, 1, 1, 1)\n",
      "5\n"
     ]
    }
   ],
   "source": [
    "# methods in tuple count, index\n",
    "\n",
    "\"\"\"\n",
    "count -> tuple_name.count(value)\n",
    "to count the value how many times it presents\n",
    "\"\"\"\n",
    "my_tuple = (\"A\",\"B\",\"C\",1,2,3,4,1,1,1,1)\n",
    "print(my_tuple)\n",
    "\n",
    "print(my_tuple.count(1))"
   ]
  },
  {
   "cell_type": "code",
   "execution_count": 53,
   "id": "copyrighted-chain",
   "metadata": {},
   "outputs": [
    {
     "name": "stdout",
     "output_type": "stream",
     "text": [
      "('A', 'B', 'C', 1, 2, 3, 4, 1, 1, 1, 1)\n",
      "0\n"
     ]
    }
   ],
   "source": [
    "# index to search through the index of a tuple -> tuple_name.index(value)\n",
    "\n",
    "\"\"\"\n",
    "it returns the position of the value\n",
    "\"\"\"\n",
    "print(my_tuple)\n",
    "print(my_tuple.index(\"A\"))"
   ]
  },
  {
   "cell_type": "code",
   "execution_count": 174,
   "id": "preceding-usage",
   "metadata": {},
   "outputs": [
    {
     "name": "stdout",
     "output_type": "stream",
     "text": [
      "{'Name': ['Gurjeet', 'Singh'], 'Address': 'Ambala(HR)', 'Company': 'TestingXperts', 'Emp_Code': 1111111, 'YoJ': 2021, 'Present': True}\n",
      "<class 'dict'>\n",
      "6\n"
     ]
    }
   ],
   "source": [
    "# Dictionaries in python -> dict_name = {key : value, key : value}\n",
    "\"\"\"\n",
    "Dicts are - \n",
    "used to store key:value pair\n",
    "can store hetrogenious data\n",
    "from 3.7 dicts are ordered\n",
    "\"\"\"\n",
    "\n",
    "details = {\n",
    "    \"Name\" : [\"Gurjeet\",\"Singh\"],\n",
    "    \"Address\" : \"Ambala(HR)\",\n",
    "    \"Company\" : \"TestingXperts\",\n",
    "    \"Emp_Code\" : 1111111,\n",
    "    \"YoJ\" : 2021,\n",
    "    \"Present\" : True\n",
    "}\n",
    "print(details)\n",
    "print(type(details))\n",
    "print(len(details))"
   ]
  },
  {
   "cell_type": "code",
   "execution_count": 80,
   "id": "going-payroll",
   "metadata": {},
   "outputs": [
    {
     "name": "stdout",
     "output_type": "stream",
     "text": [
      "['Gurjeet', 'Singh']\n",
      "TestingXperts\n",
      "2021\n",
      "Ambala(HR)\n"
     ]
    }
   ],
   "source": [
    "# getting the values using keys -> dict_name[Key] || dict_name.get[Key]\n",
    "\n",
    "print(details[\"Name\"])\n",
    "print(details[\"Company\"])\n",
    "\n",
    "print(details.get(\"YoJ\"))\n",
    "print(details.get(\"Address\"))"
   ]
  },
  {
   "cell_type": "code",
   "execution_count": 83,
   "id": "indian-massachusetts",
   "metadata": {},
   "outputs": [
    {
     "name": "stdout",
     "output_type": "stream",
     "text": [
      "dict_keys(['Name', 'Address', 'Company', 'Emp_Code', 'YoJ', 'Present'])\n"
     ]
    }
   ],
   "source": [
    "# getting the keys of dicts -> dict_name.keys()\n",
    "\n",
    "print(details.keys())"
   ]
  },
  {
   "cell_type": "code",
   "execution_count": 114,
   "id": "lightweight-invitation",
   "metadata": {},
   "outputs": [
    {
     "name": "stdout",
     "output_type": "stream",
     "text": [
      "dict_values([['Gurjeet', 'Singh'], 'Ambala City', 'TestingXperts', 1111111, 2021, True])\n"
     ]
    }
   ],
   "source": [
    "# getting the value of dicts -> dict_name.values()\n",
    "\n",
    "print(details.values())"
   ]
  },
  {
   "cell_type": "code",
   "execution_count": 175,
   "id": "electric-tower",
   "metadata": {},
   "outputs": [
    {
     "name": "stdout",
     "output_type": "stream",
     "text": [
      "{'Name': ['Gurjeet', 'Singh'], 'Address': 'Ambala(HR)', 'Company': 'TestingXperts', 'Emp_Code': 1111111, 'YoJ': 2021, 'Present': True}\n"
     ]
    },
    {
     "data": {
      "text/plain": [
       "{'Name': ['Gurjeet', 'Singh'],\n",
       " 'Address': 'Ambala City',\n",
       " 'Company': 'TestingXperts',\n",
       " 'Emp_Code': 1111111,\n",
       " 'YoJ': 2021,\n",
       " 'Present': True}"
      ]
     },
     "execution_count": 175,
     "metadata": {},
     "output_type": "execute_result"
    }
   ],
   "source": [
    "# changing the value of keys -> dict_name[Key] = Value\n",
    "\n",
    "print(details)\n",
    "details[\"Address\"] = \"Ambala City\"\n",
    "details"
   ]
  },
  {
   "cell_type": "code",
   "execution_count": 118,
   "id": "thirty-growing",
   "metadata": {},
   "outputs": [
    {
     "name": "stdout",
     "output_type": "stream",
     "text": [
      "dict_items([('Name', ['Gurjeet', 'Singh']), ('Address', 'Ambala City'), ('Company', 'TestingXperts'), ('Emp_Code', 1111111), ('YoJ', 2021), ('Present', True)])\n"
     ]
    }
   ],
   "source": [
    "# printing all the details of dicts in the form of dictionary -> dict_name.items()\n",
    "\n",
    "print(details.items())"
   ]
  },
  {
   "cell_type": "code",
   "execution_count": 119,
   "id": "norwegian-discovery",
   "metadata": {},
   "outputs": [
    {
     "name": "stdout",
     "output_type": "stream",
     "text": [
      "Name key is available in the dictionary\n",
      "0 Name\n",
      "1 Address\n",
      "2 Company\n",
      "3 Emp_Code\n",
      "4 YoJ\n",
      "5 Present\n"
     ]
    }
   ],
   "source": [
    "# iterating through the dicts\n",
    "\"\"\"\n",
    "we can iterate throught the dicts using\n",
    "if\n",
    "for\n",
    "while, etc\n",
    "\"\"\"\n",
    "\n",
    "if \"Name\" in details:\n",
    "    print(\"Name key is available in the dictionary\")\n",
    "    \n",
    "for index,value in enumerate(details):\n",
    "    print(index, value)"
   ]
  },
  {
   "cell_type": "code",
   "execution_count": 176,
   "id": "authorized-backup",
   "metadata": {},
   "outputs": [
    {
     "name": "stdout",
     "output_type": "stream",
     "text": [
      "{'Name': ['Gurjeet', 'Singh'], 'Address': 'Ambala City', 'Company': 'TestingXperts', 'Emp_Code': 1111111, 'YoJ': 2021, 'Present': True}\n",
      "\n",
      "{'Name': 'Guri', 'Address': 'Ambala City', 'Company': 'TestingXperts', 'Emp_Code': 1111111, 'YoJ': 2021, 'Present': True, 'Type': 'WFH'}\n",
      "\n",
      "{'Name': 'Guri', 'Address': 'Ambala City', 'Company': 'TestingXperts', 'Emp_Code': 1111111, 'YoJ': 2021, 'Present': True, 'Type': 'WFH', 'Level': 'Trainee'}\n",
      "\n",
      "{'Name': 'Guri', 'Address': 'Ambala City', 'Company': 'TestingXperts', 'Emp_Code': 1111111, 'YoJ': 2021, 'Present': True, 'Type': 'WFH', 'Level': 'Trainee', 'Profile': 'DevOps'}\n"
     ]
    }
   ],
   "source": [
    "# updated ways to update the key:values in a dict\n",
    "\n",
    "\"\"\"\n",
    "1. dict_name[\"Key\"] = \"Value\"\n",
    "2. dict_name.update({Key : Value})\n",
    "3. dict_name = {**dict_name, **{Key : Value}}\n",
    "4. dict_name |= {Key : Value}\n",
    "\"\"\"\n",
    "print(details)\n",
    "print()\n",
    "details[\"Name\"] = \"Guri\"\n",
    "details.update({\"Type\" : \"WFH\"})\n",
    "print(details)\n",
    "print()\n",
    "details = {**details,**{\"Level\" : \"Trainee\"}}\n",
    "print(details)\n",
    "print()\n",
    "details |= {\"Profile\" : \"DevOps\"}\n",
    "print(details)"
   ]
  },
  {
   "cell_type": "code",
   "execution_count": 199,
   "id": "outstanding-constant",
   "metadata": {},
   "outputs": [],
   "source": [
    "# nested dicts - we can use dict inside a dict\n",
    "\n",
    "team = {\n",
    "    \"Trainees\" : {\n",
    "    \"Trainee 1\" : {\n",
    "        \"Name\" : \"Gurjeet\",\n",
    "        \"Level\" : \"Trainee\",\n",
    "        \"Emp_code\" : 1111\n",
    "    },\n",
    "    \"Trainee 2\" : {\n",
    "        \"Name\" : \"Pragati\",\n",
    "        \"Level\" : \"Trainee\",\n",
    "        \"Emp_code\" : 2222\n",
    "    },\n",
    "    \"Trainee 3\" : {\n",
    "        \"Name\" : \"Pratik\",\n",
    "        \"Level\" : \"Trainee\",\n",
    "        \"Emp_code\" : 3333\n",
    "    }\n",
    "},\n",
    "    \"Trainer\" : {\n",
    "        \"Trainer 1\" : {\n",
    "            \"Name\" : \"Anshuman\",\n",
    "            \"Level\" : \"Sr Spl\",\n",
    "            \"Emp_code\" : 4444\n",
    "        },\n",
    "         \"Trainer 2\" : {\n",
    "            \"Name\" : \"Sandeep\",\n",
    "            \"Level\" : \"Sr Spl\",\n",
    "            \"Emp_code\" : 5555\n",
    "        },\n",
    "        \n",
    "    }\n",
    "}\n",
    "# print(team)\n"
   ]
  },
  {
   "cell_type": "code",
   "execution_count": 224,
   "id": "thrown-baghdad",
   "metadata": {},
   "outputs": [],
   "source": [
    "# methods in python\n",
    "\n",
    "details_1 = {\n",
    "    \"Name\" : [\"Gurjeet\",\"Singh\"],\n",
    "    \"Address\" : \"Ambala(HR)\",\n",
    "    \"Company\" : \"TestingXperts\",\n",
    "    \"Emp_Code\" : 1111111,\n",
    "    \"YoJ\" : 2021,\n",
    "    \"Present\" : True\n",
    "}\n",
    "# details"
   ]
  },
  {
   "cell_type": "code",
   "execution_count": 213,
   "id": "acknowledged-carroll",
   "metadata": {},
   "outputs": [
    {
     "data": {
      "text/plain": [
       "{}"
      ]
     },
     "execution_count": 213,
     "metadata": {},
     "output_type": "execute_result"
    }
   ],
   "source": [
    "# to delete the dict -> del(dict_name) and clear(dict_name)\n",
    "\n",
    "details_1.clear()\n",
    "details_1"
   ]
  },
  {
   "cell_type": "code",
   "execution_count": 222,
   "id": "improving-cargo",
   "metadata": {},
   "outputs": [],
   "source": [
    "#to delete a dict completely -> del(dict_name) \n",
    "\n",
    "details_1\n",
    "del(details_1)"
   ]
  },
  {
   "cell_type": "code",
   "execution_count": 225,
   "id": "coastal-necessity",
   "metadata": {},
   "outputs": [
    {
     "name": "stdout",
     "output_type": "stream",
     "text": [
      "{'Name': ['Gurjeet', 'Singh'], 'Address': 'Ambala(HR)', 'Company': 'TestingXperts', 'Emp_Code': 1111111, 'YoJ': 2021, 'Present': True}\n"
     ]
    }
   ],
   "source": [
    "# to copy a dict to another -> dict_new = dict_old.copy()\n",
    "\n",
    "new_dict = details_1.copy()\n",
    "print(new_dict)"
   ]
  },
  {
   "cell_type": "code",
   "execution_count": 244,
   "id": "flush-novel",
   "metadata": {},
   "outputs": [
    {
     "name": "stdout",
     "output_type": "stream",
     "text": [
      "{1: 'Same', 2: 'Same', 3: 'Same'}\n"
     ]
    }
   ],
   "source": [
    "# to use one value for all keys -> dict_name = dict.fromkeys(key,value) key = ('','','') || value = ''\n",
    "\n",
    "my_tuple = (1,2,3)\n",
    "value = \"Same\"\n",
    "my_dict = dict.fromkeys(my_tuple, value)\n",
    "print(my_dict)"
   ]
  },
  {
   "cell_type": "code",
   "execution_count": 232,
   "id": "applied-reggae",
   "metadata": {},
   "outputs": [
    {
     "name": "stdout",
     "output_type": "stream",
     "text": [
      "Guri\n"
     ]
    }
   ],
   "source": [
    "# to get the key value in dict -> dict_name.get(Key)\n",
    "\n",
    "print(details.get(\"Name\"))"
   ]
  },
  {
   "cell_type": "code",
   "execution_count": 243,
   "id": "direct-douglas",
   "metadata": {},
   "outputs": [
    {
     "name": "stdout",
     "output_type": "stream",
     "text": [
      "{1: 'Same', 2: 'Same', 3: 'Same'}\n",
      "{1: 'Same', 3: 'Same'}\n"
     ]
    }
   ],
   "source": [
    "# to remove the element with specific key -> dict_name.pop(Key)\n",
    "\n",
    "print(my_dict)\n",
    "my_dict.pop(2)\n",
    "print(my_dict)"
   ]
  },
  {
   "cell_type": "code",
   "execution_count": 241,
   "id": "voluntary-integral",
   "metadata": {},
   "outputs": [
    {
     "name": "stdout",
     "output_type": "stream",
     "text": [
      "{1: 'Same', 2: 'Same', 3: 'Same'}\n",
      "{1: 'Same', 2: 'Same'}\n"
     ]
    }
   ],
   "source": [
    "# to remove the last inserted key-value pair -> dict_name.popitem()\n",
    "\n",
    "print(my_dict)\n",
    "my_dict.popitem()\n",
    "print(my_dict)"
   ]
  },
  {
   "cell_type": "code",
   "execution_count": 247,
   "id": "willing-austin",
   "metadata": {},
   "outputs": [
    {
     "name": "stdout",
     "output_type": "stream",
     "text": [
      "{1: 'Same', 2: 'Same', 3: 'Same', 4: 'Not Same'}\n"
     ]
    }
   ],
   "source": [
    "# to insert the key and value while checking for the value -> dict_name.setdefault(key,valeu)\n",
    "\n",
    "my_dict.setdefault(4, \"Not Same\")\n",
    "print(my_dict)"
   ]
  },
  {
   "cell_type": "code",
   "execution_count": 255,
   "id": "native-tomato",
   "metadata": {},
   "outputs": [
    {
     "name": "stdout",
     "output_type": "stream",
     "text": [
      "None\n"
     ]
    }
   ],
   "source": [
    "# diff bw get(Key) and [Key] -> [] uses exeption handling\n",
    "\n",
    "details_1 = {\n",
    "    \"Name\" : [\"Gurjeet\",\"Singh\"],\n",
    "    \"Address\" : \"Ambala(HR)\",\n",
    "    \"Company\" : \"TestingXperts\",\n",
    "    \"Emp_Code\" : 1111111,\n",
    "    \"YoJ\" : 2021,\n",
    "    \"Present\" : True\n",
    "}\n",
    "details_1\n",
    "print(details_1.get(\"Emp_Code\"))"
   ]
  },
  {
   "cell_type": "code",
   "execution_count": 258,
   "id": "expensive-moisture",
   "metadata": {},
   "outputs": [
    {
     "name": "stdout",
     "output_type": "stream",
     "text": [
      "does not exist\n"
     ]
    }
   ],
   "source": [
    "try:\n",
    "    print(details_1[\"sEmp_Code\"])\n",
    "except KeyError:\n",
    "    print(\"does not exist\")"
   ]
  }
 ],
 "metadata": {
  "kernelspec": {
   "display_name": "Python 3",
   "language": "python",
   "name": "python3"
  },
  "language_info": {
   "codemirror_mode": {
    "name": "ipython",
    "version": 3
   },
   "file_extension": ".py",
   "mimetype": "text/x-python",
   "name": "python",
   "nbconvert_exporter": "python",
   "pygments_lexer": "ipython3",
   "version": "3.9.1"
  }
 },
 "nbformat": 4,
 "nbformat_minor": 5
}
