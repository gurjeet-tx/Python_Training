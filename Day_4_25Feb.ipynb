{
 "cells": [
  {
   "cell_type": "code",
   "execution_count": null,
   "id": "conservative-thing",
   "metadata": {},
   "outputs": [],
   "source": [
    "# conditional statements in python\n",
    "\"\"\"\n",
    "if\n",
    "elif\n",
    "else\n",
    "nested-statements\n",
    "\"\"\"\n",
    "\"\"\"\n",
    "usefull operators in conditional statements\n",
    "==\n",
    "!=\n",
    "<=\n",
    ">=\n",
    ">\n",
    "<\n",
    "\"\"\""
   ]
  },
  {
   "cell_type": "code",
   "execution_count": 2,
   "id": "complicated-government",
   "metadata": {},
   "outputs": [
    {
     "name": "stdout",
     "output_type": "stream",
     "text": [
      "Enter the number : 3\n"
     ]
    }
   ],
   "source": [
    "# if-statement -> it only work if the statement is true\n",
    "\"\"\"\n",
    "if statement:\n",
    "    body of if\n",
    "\"\"\"\n",
    "num = int(input(\"Enter the number : \"))\n",
    "if num%2 == 0:\n",
    "    print(\"Number is even\")"
   ]
  },
  {
   "cell_type": "code",
   "execution_count": 4,
   "id": "needed-librarian",
   "metadata": {},
   "outputs": [
    {
     "name": "stdout",
     "output_type": "stream",
     "text": [
      "Enter the number : 5\n",
      "Number is odd\n"
     ]
    }
   ],
   "source": [
    "# if-else statement -> checks if true else false\n",
    "\"\"\"\n",
    "if statement:\n",
    "    body of if\n",
    "else:\n",
    "    body of else\n",
    "\"\"\"\n",
    "num = int(input(\"Enter the number : \"))\n",
    "if num%2 == 0:\n",
    "    print(\"Number is even\")\n",
    "else:\n",
    "    print(\"Number is odd\")"
   ]
  },
  {
   "cell_type": "code",
   "execution_count": 9,
   "id": "bound-recruitment",
   "metadata": {},
   "outputs": [
    {
     "name": "stdout",
     "output_type": "stream",
     "text": [
      "Enter the number in range 1-10 : 100\n",
      "Enter the number in given range\n"
     ]
    }
   ],
   "source": [
    "# if elif else -> checks if first condition is true elif this true else false\n",
    "\n",
    "\"\"\"\n",
    "if statement:\n",
    "    body of if\n",
    "elif statement:\n",
    "    body of elif\n",
    "else:\n",
    "    body of else\n",
    "\"\"\"\n",
    "\n",
    "num = int(input(\"Enter the number in range 1-10 : \"))\n",
    "if num<= 10 and num >5:\n",
    "    print(\"Number lies in range 6-10\")\n",
    "elif num<=5 and num>=1:\n",
    "    print(\"Number lies in range 1-5\")\n",
    "else:\n",
    "    print(\"Enter the number in given range\")"
   ]
  },
  {
   "cell_type": "code",
   "execution_count": 57,
   "id": "tender-trace",
   "metadata": {},
   "outputs": [
    {
     "name": "stdout",
     "output_type": "stream",
     "text": [
      "Enter Continent name : as\n",
      "Enter the Country name : as\n"
     ]
    }
   ],
   "source": [
    "# if elif else chatbot\n",
    "import pyttsx3\n",
    "engine = pyttsx3.init()\n",
    "# engine.say(\"I will speak this text\")\n",
    "# engine.runAndWait()\n",
    "\n",
    "user_continent = str(input(\"Enter Continent name : \")).lower()\n",
    "user_country = str(input(\"Enter the Country name : \")).lower()\n",
    "if user_continent == 'asia':\n",
    "    if user_country == \"india\":\n",
    "        engine.say(\"Capital of India is New Delhi\")\n",
    "        engine.runAndWait()\n",
    "    elif user_country == \"australia\":\n",
    "        engine.say(\"Capital of Australia is Sydney\")\n",
    "        engine.runAndWait()\n",
    "    elif user_country == \"nepal\":\n",
    "        engine.say(\"Capital of nepal is Kathmandu\")\n",
    "        engine.runAndWait()\n",
    "    else:\n",
    "        engine.say(\"This county is not in Asian continent\")\n",
    "        engine.runAndWait()\n",
    "\n",
    "elif user_continent == \"america\":\n",
    "    if user_country == \"the us\":\n",
    "        engine.say(\"Capita of the United States is Washington D.C.\")\n",
    "        engine.runAndWait()\n",
    "    elif user_country == \"canada\":\n",
    "        engine.say(\"Capital of Canada is Ottawa\")\n",
    "        engine.runAndWait()\n",
    "    elif user_country == \"mexico\":\n",
    "        engine.say(\"Capital of mexico is mexico city\")\n",
    "        engine.runAndWait()\n",
    "    else :\n",
    "        engine.say(\"This country is not present in American Continent\")\n",
    "        engine.runAndWait()\n",
    "        \n",
    "elif user_continent == \"europe\":\n",
    "    if user_country == \"ireland\":\n",
    "        engine.say(\"Capita of ireland is dublin\")\n",
    "        engine.runAndWait()\n",
    "    elif user_country == \"spain\":\n",
    "        engine.say(\"Capital of spain is madrid\")\n",
    "        engine.runAndWait()\n",
    "    elif user_country == \"the uk\":\n",
    "        engine.say(\"Capital of the united kingdom is London\")\n",
    "        engine.runAndWait()\n",
    "    else :\n",
    "        engine.say(\"This country is not present in Europe continent\")\n",
    "        engine.runAndWait()\n",
    "else :\n",
    "    engine.say(\"More continents will be added soon!!!\")"
   ]
  },
  {
   "cell_type": "code",
   "execution_count": 86,
   "id": "affected-catering",
   "metadata": {},
   "outputs": [
    {
     "name": "stdout",
     "output_type": "stream",
     "text": [
      "Enter Continent name : asia\n",
      "Enter the Asian Country name : pakistan\n"
     ]
    }
   ],
   "source": [
    "def asian_continent(user_country, asian_list):\n",
    "    if user_country in asian_list:\n",
    "        if user_country == \"india\":\n",
    "            engine.say(\"Capital of India is New Delhi\")\n",
    "            engine.runAndWait()\n",
    "        elif user_country == \"australia\":\n",
    "            engine.say(\"Capital of Australia is Sydney\")\n",
    "            engine.runAndWait()\n",
    "        elif user_country == \"nepal\":\n",
    "            engine.say(\"Capital of nepal is Kathmandu\")\n",
    "            engine.runAndWait()\n",
    "    else:\n",
    "        engine.say(\"This county is not in Asian continent\")\n",
    "        engine.runAndWait()\n",
    "        \n",
    "def european_continent(*args):\n",
    "    if user_country in european_list:\n",
    "        if user_country == \"ireland\":\n",
    "            engine.say(\"Capita of ireland is dublin\")\n",
    "            engine.runAndWait()\n",
    "        elif user_country == \"spain\":\n",
    "            engine.say(\"Capital of spain is madrid\")\n",
    "            engine.runAndWait()\n",
    "        elif user_country == \"the uk\":\n",
    "            engine.say(\"Capital of the united kingdom is London\")\n",
    "            engine.runAndWait()\n",
    "    else :\n",
    "        engine.say(\"This country is not present in Europe continent\")\n",
    "        engine.runAndWait()\n",
    "        \n",
    "def american_continent(*args):\n",
    "    if user_country in american_list:\n",
    "        if user_country == \"the us\":\n",
    "            engine.say(\"Capita of the United States is Washington D.C.\")\n",
    "            engine.runAndWait()\n",
    "        elif user_country == \"canada\":\n",
    "            engine.say(\"Capital of Canada is Ottawa\")\n",
    "            engine.runAndWait()\n",
    "        elif user_country == \"mexico\":\n",
    "            engine.say(\"Capital of mexico is mexico city\")\n",
    "            engine.runAndWait()\n",
    "    else :\n",
    "        engine.say(\"This country is not present in American Continent\")\n",
    "        engine.runAndWait()\n",
    "        \n",
    "import pyttsx3\n",
    "engine = pyttsx3.init()\n",
    "\n",
    "user_continent = str(input(\"Enter Continent name : \")).lower()\n",
    "\n",
    "asian_list = [\"india\", \"nepal\", \"australia\"]\n",
    "europe_list = ['ireland', 'the uk', 'spain']\n",
    "american_list = ['the us', 'canada', 'mexico']\n",
    "\n",
    "if user_continent == \"asia\":\n",
    "    user_country = str(input(\"Enter the Asian Country name : \")).lower()\n",
    "    asian_continent(user_country, asian_list)\n",
    "    \n",
    "elif user_continent == 'america':\n",
    "    user_country = str(input(\"Enter the American Country name : \")).lower()\n",
    "    american_continent()\n",
    "elif user_continent == 'europe':\n",
    "    user_country = str(input(\"Enter the European Country name : \")).lower()\n",
    "    european_continent()\n",
    "else:\n",
    "    engine.say(\"This continent present on Parallel universe, please go there\")\n",
    "    engine.runAndWait()  "
   ]
  }
 ],
 "metadata": {
  "kernelspec": {
   "display_name": "Python 3",
   "language": "python",
   "name": "python3"
  },
  "language_info": {
   "codemirror_mode": {
    "name": "ipython",
    "version": 3
   },
   "file_extension": ".py",
   "mimetype": "text/x-python",
   "name": "python",
   "nbconvert_exporter": "python",
   "pygments_lexer": "ipython3",
   "version": "3.9.1"
  }
 },
 "nbformat": 4,
 "nbformat_minor": 5
}
