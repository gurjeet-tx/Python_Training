{
 "cells": [
  {
   "cell_type": "code",
   "execution_count": null,
   "id": "ruled-sweet",
   "metadata": {},
   "outputs": [],
   "source": [
    "# conditional statements in python\n",
    "\"\"\"\n",
    "if\n",
    "elif\n",
    "else\n",
    "nested-statements\n",
    "\"\"\"\n",
    "\"\"\"\n",
    "usefull operators in conditional statements\n",
    "==\n",
    "!=\n",
    "<=\n",
    ">=\n",
    ">\n",
    "<\n",
    "\"\"\""
   ]
  },
  {
   "cell_type": "code",
   "execution_count": 2,
   "id": "scenic-branch",
   "metadata": {},
   "outputs": [
    {
     "name": "stdout",
     "output_type": "stream",
     "text": [
      "Enter the number : 3\n"
     ]
    }
   ],
   "source": [
    "# if-statement -> it only work if the statement is true\n",
    "\"\"\"\n",
    "if statement:\n",
    "    body of if\n",
    "\"\"\"\n",
    "num = int(input(\"Enter the number : \"))\n",
    "if num%2 == 0:\n",
    "    print(\"Number is even\")"
   ]
  },
  {
   "cell_type": "code",
   "execution_count": 4,
   "id": "norman-maple",
   "metadata": {},
   "outputs": [
    {
     "name": "stdout",
     "output_type": "stream",
     "text": [
      "Enter the number : 5\n",
      "Number is odd\n"
     ]
    }
   ],
   "source": [
    "# if-else statement -> checks if true else false\n",
    "\"\"\"\n",
    "if statement:\n",
    "    body of if\n",
    "else:\n",
    "    body of else\n",
    "\"\"\"\n",
    "num = int(input(\"Enter the number : \"))\n",
    "if num%2 == 0:\n",
    "    print(\"Number is even\")\n",
    "else:\n",
    "    print(\"Number is odd\")"
   ]
  },
  {
   "cell_type": "code",
   "execution_count": 9,
   "id": "drawn-outside",
   "metadata": {},
   "outputs": [
    {
     "name": "stdout",
     "output_type": "stream",
     "text": [
      "Enter the number in range 1-10 : 100\n",
      "Enter the number in given range\n"
     ]
    }
   ],
   "source": [
    "# if elif else -> checks if first condition is true elif this true else false\n",
    "\n",
    "\"\"\"\n",
    "if statement:\n",
    "    body of if\n",
    "elif statement:\n",
    "    body of elif\n",
    "else:\n",
    "    body of else\n",
    "\"\"\"\n",
    "\n",
    "num = int(input(\"Enter the number in range 1-10 : \"))\n",
    "if num<= 10 and num >5:\n",
    "    print(\"Number lies in range 6-10\")\n",
    "elif num<=5 and num>=1:\n",
    "    print(\"Number lies in range 1-5\")\n",
    "else:\n",
    "    print(\"Enter the number in given range\")"
   ]
  },
  {
   "cell_type": "code",
   "execution_count": 57,
   "id": "postal-modification",
   "metadata": {},
   "outputs": [
    {
     "name": "stdout",
     "output_type": "stream",
     "text": [
      "Enter Continent name : as\n",
      "Enter the Country name : as\n"
     ]
    }
   ],
   "source": [
    "# if elif else chatbot\n",
    "import pyttsx3\n",
    "engine = pyttsx3.init()\n",
    "# engine.say(\"I will speak this text\")\n",
    "# engine.runAndWait()\n",
    "\n",
    "user_continent = str(input(\"Enter Continent name : \")).lower()\n",
    "user_country = str(input(\"Enter the Country name : \")).lower()\n",
    "if user_continent == 'asia':\n",
    "    if user_country == \"india\":\n",
    "        engine.say(\"Capital of India is New Delhi\")\n",
    "        engine.runAndWait()\n",
    "    elif user_country == \"australia\":\n",
    "        engine.say(\"Capital of Australia is Sydney\")\n",
    "        engine.runAndWait()\n",
    "    elif user_country == \"nepal\":\n",
    "        engine.say(\"Capital of nepal is Kathmandu\")\n",
    "        engine.runAndWait()\n",
    "    else:\n",
    "        engine.say(\"This county is not in Asian continent\")\n",
    "        engine.runAndWait()\n",
    "\n",
    "elif user_continent == \"america\":\n",
    "    if user_country == \"the us\":\n",
    "        engine.say(\"Capita of the United States is Washington D.C.\")\n",
    "        engine.runAndWait()\n",
    "    elif user_country == \"canada\":\n",
    "        engine.say(\"Capital of Canada is Ottawa\")\n",
    "        engine.runAndWait()\n",
    "    elif user_country == \"mexico\":\n",
    "        engine.say(\"Capital of mexico is mexico city\")\n",
    "        engine.runAndWait()\n",
    "    else :\n",
    "        engine.say(\"This country is not present in American Continent\")\n",
    "        engine.runAndWait()\n",
    "        \n",
    "elif user_continent == \"europe\":\n",
    "    if user_country == \"ireland\":\n",
    "        engine.say(\"Capita of ireland is dublin\")\n",
    "        engine.runAndWait()\n",
    "    elif user_country == \"spain\":\n",
    "        engine.say(\"Capital of spain is madrid\")\n",
    "        engine.runAndWait()\n",
    "    elif user_country == \"the uk\":\n",
    "        engine.say(\"Capital of the united kingdom is London\")\n",
    "        engine.runAndWait()\n",
    "    else :\n",
    "        engine.say(\"This country is not present in Europe continent\")\n",
    "        engine.runAndWait()\n",
    "else :\n",
    "    engine.say(\"More continents will be added soon!!!\")"
   ]
  },
  {
   "cell_type": "code",
   "execution_count": 89,
   "id": "convertible-summit",
   "metadata": {},
   "outputs": [
    {
     "ename": "KeyboardInterrupt",
     "evalue": "Interrupted by user",
     "output_type": "error",
     "traceback": [
      "\u001b[1;31m---------------------------------------------------------------------------\u001b[0m",
      "\u001b[1;31mKeyboardInterrupt\u001b[0m                         Traceback (most recent call last)",
      "\u001b[1;32m<ipython-input-89-5d9a0eb59801>\u001b[0m in \u001b[0;36m<module>\u001b[1;34m\u001b[0m\n\u001b[0;32m     49\u001b[0m \u001b[0mengine\u001b[0m\u001b[1;33m.\u001b[0m\u001b[0msetProperty\u001b[0m\u001b[1;33m(\u001b[0m\u001b[1;34m'rate'\u001b[0m\u001b[1;33m,\u001b[0m\u001b[0mnewVoiceRate\u001b[0m\u001b[1;33m)\u001b[0m\u001b[1;33m\u001b[0m\u001b[1;33m\u001b[0m\u001b[0m\n\u001b[0;32m     50\u001b[0m \u001b[1;33m\u001b[0m\u001b[0m\n\u001b[1;32m---> 51\u001b[1;33m \u001b[0muser_continent\u001b[0m \u001b[1;33m=\u001b[0m \u001b[0mstr\u001b[0m\u001b[1;33m(\u001b[0m\u001b[0minput\u001b[0m\u001b[1;33m(\u001b[0m\u001b[1;34m\"Enter Continent name : \"\u001b[0m\u001b[1;33m)\u001b[0m\u001b[1;33m)\u001b[0m\u001b[1;33m.\u001b[0m\u001b[0mlower\u001b[0m\u001b[1;33m(\u001b[0m\u001b[1;33m)\u001b[0m\u001b[1;33m\u001b[0m\u001b[1;33m\u001b[0m\u001b[0m\n\u001b[0m\u001b[0;32m     52\u001b[0m \u001b[1;33m\u001b[0m\u001b[0m\n\u001b[0;32m     53\u001b[0m \u001b[0masian_list\u001b[0m \u001b[1;33m=\u001b[0m \u001b[1;33m[\u001b[0m\u001b[1;34m\"india\"\u001b[0m\u001b[1;33m,\u001b[0m \u001b[1;34m\"nepal\"\u001b[0m\u001b[1;33m,\u001b[0m \u001b[1;34m\"australia\"\u001b[0m\u001b[1;33m]\u001b[0m\u001b[1;33m\u001b[0m\u001b[1;33m\u001b[0m\u001b[0m\n",
      "\u001b[1;32m~\\AppData\\Local\\Packages\\PythonSoftwareFoundation.Python.3.9_qbz5n2kfra8p0\\LocalCache\\local-packages\\Python39\\site-packages\\ipykernel\\kernelbase.py\u001b[0m in \u001b[0;36mraw_input\u001b[1;34m(self, prompt)\u001b[0m\n\u001b[0;32m    846\u001b[0m                 \u001b[1;34m\"raw_input was called, but this frontend does not support input requests.\"\u001b[0m\u001b[1;33m\u001b[0m\u001b[1;33m\u001b[0m\u001b[0m\n\u001b[0;32m    847\u001b[0m             )\n\u001b[1;32m--> 848\u001b[1;33m         return self._input_request(str(prompt),\n\u001b[0m\u001b[0;32m    849\u001b[0m             \u001b[0mself\u001b[0m\u001b[1;33m.\u001b[0m\u001b[0m_parent_ident\u001b[0m\u001b[1;33m,\u001b[0m\u001b[1;33m\u001b[0m\u001b[1;33m\u001b[0m\u001b[0m\n\u001b[0;32m    850\u001b[0m             \u001b[0mself\u001b[0m\u001b[1;33m.\u001b[0m\u001b[0m_parent_header\u001b[0m\u001b[1;33m,\u001b[0m\u001b[1;33m\u001b[0m\u001b[1;33m\u001b[0m\u001b[0m\n",
      "\u001b[1;32m~\\AppData\\Local\\Packages\\PythonSoftwareFoundation.Python.3.9_qbz5n2kfra8p0\\LocalCache\\local-packages\\Python39\\site-packages\\ipykernel\\kernelbase.py\u001b[0m in \u001b[0;36m_input_request\u001b[1;34m(self, prompt, ident, parent, password)\u001b[0m\n\u001b[0;32m    890\u001b[0m             \u001b[1;32mexcept\u001b[0m \u001b[0mKeyboardInterrupt\u001b[0m\u001b[1;33m:\u001b[0m\u001b[1;33m\u001b[0m\u001b[1;33m\u001b[0m\u001b[0m\n\u001b[0;32m    891\u001b[0m                 \u001b[1;31m# re-raise KeyboardInterrupt, to truncate traceback\u001b[0m\u001b[1;33m\u001b[0m\u001b[1;33m\u001b[0m\u001b[1;33m\u001b[0m\u001b[0m\n\u001b[1;32m--> 892\u001b[1;33m                 \u001b[1;32mraise\u001b[0m \u001b[0mKeyboardInterrupt\u001b[0m\u001b[1;33m(\u001b[0m\u001b[1;34m\"Interrupted by user\"\u001b[0m\u001b[1;33m)\u001b[0m \u001b[1;32mfrom\u001b[0m \u001b[1;32mNone\u001b[0m\u001b[1;33m\u001b[0m\u001b[1;33m\u001b[0m\u001b[0m\n\u001b[0m\u001b[0;32m    893\u001b[0m             \u001b[1;32mexcept\u001b[0m \u001b[0mException\u001b[0m \u001b[1;32mas\u001b[0m \u001b[0me\u001b[0m\u001b[1;33m:\u001b[0m\u001b[1;33m\u001b[0m\u001b[1;33m\u001b[0m\u001b[0m\n\u001b[0;32m    894\u001b[0m                 \u001b[0mself\u001b[0m\u001b[1;33m.\u001b[0m\u001b[0mlog\u001b[0m\u001b[1;33m.\u001b[0m\u001b[0mwarning\u001b[0m\u001b[1;33m(\u001b[0m\u001b[1;34m\"Invalid Message:\"\u001b[0m\u001b[1;33m,\u001b[0m \u001b[0mexc_info\u001b[0m\u001b[1;33m=\u001b[0m\u001b[1;32mTrue\u001b[0m\u001b[1;33m)\u001b[0m\u001b[1;33m\u001b[0m\u001b[1;33m\u001b[0m\u001b[0m\n",
      "\u001b[1;31mKeyboardInterrupt\u001b[0m: Interrupted by user"
     ]
    }
   ],
   "source": [
    "def asian_continent(user_country, asian_list):\n",
    "    if user_country in asian_list:\n",
    "        if user_country == \"india\":\n",
    "            engine.say(\"Capital of India is New Delhi\")\n",
    "            engine.runAndWait()\n",
    "        elif user_country == \"australia\":\n",
    "            engine.say(\"Capital of Australia is Sydney\")\n",
    "            engine.runAndWait()\n",
    "        elif user_country == \"nepal\":\n",
    "            engine.say(\"Capital of nepal is Kathmandu\")\n",
    "            engine.runAndWait()\n",
    "    else:\n",
    "        engine.say(\"This county is not in Asian continent\")\n",
    "        engine.runAndWait()\n",
    "        \n",
    "def european_continent(*args):\n",
    "    if user_country in european_list:\n",
    "        if user_country == \"ireland\":\n",
    "            engine.say(\"Capita of ireland is dublin\")\n",
    "            engine.runAndWait()\n",
    "        elif user_country == \"spain\":\n",
    "            engine.say(\"Capital of spain is madrid\")\n",
    "            engine.runAndWait()\n",
    "        elif user_country == \"the uk\":\n",
    "            engine.say(\"Capital of the united kingdom is London\")\n",
    "            engine.runAndWait()\n",
    "    else :\n",
    "        engine.say(\"This country is not present in Europe continent\")\n",
    "        engine.runAndWait()\n",
    "        \n",
    "def american_continent(*args):\n",
    "    if user_country in american_list:\n",
    "        if user_country == \"the us\":\n",
    "            engine.say(\"Capita of the United States is Washington D.C.\")\n",
    "            engine.runAndWait()\n",
    "        elif user_country == \"canada\":\n",
    "            engine.say(\"Capital of Canada is Ottawa\")\n",
    "            engine.runAndWait()\n",
    "        elif user_country == \"mexico\":\n",
    "            engine.say(\"Capital of mexico is mexico city\")\n",
    "            engine.runAndWait()\n",
    "    else :\n",
    "        engine.say(\"This country is not present in American Continent\")\n",
    "        engine.runAndWait()\n",
    "        \n",
    "import pyttsx3\n",
    "engine = pyttsx3.init()\n",
    "newVoiceRate = 150\n",
    "engine.setProperty('rate',newVoiceRate)\n",
    "\n",
    "user_continent = str(input(\"Enter Continent name : \")).lower()\n",
    "\n",
    "asian_list = [\"india\", \"nepal\", \"australia\"]\n",
    "europe_list = ['ireland', 'the uk', 'spain']\n",
    "american_list = ['the us', 'canada', 'mexico']\n",
    "\n",
    "if user_continent == \"asia\":\n",
    "    user_country = str(input(\"Enter the Asian Country name : \")).lower()\n",
    "    asian_continent(user_country, asian_list)\n",
    "    \n",
    "elif user_continent == 'america':\n",
    "    user_country = str(input(\"Enter the American Country name : \")).lower()\n",
    "    american_continent()\n",
    "elif user_continent == 'europe':\n",
    "    user_country = str(input(\"Enter the European Country name : \")).lower()\n",
    "    european_continent()\n",
    "else:\n",
    "    engine.say(\"This continent present on Parallel universe, please go there\")\n",
    "    engine.runAndWait()  "
   ]
  },
  {
   "cell_type": "code",
   "execution_count": 94,
   "id": "resistant-driver",
   "metadata": {},
   "outputs": [
    {
     "name": "stdout",
     "output_type": "stream",
     "text": [
      "yeshello\n"
     ]
    }
   ],
   "source": [
    "import pyttsx3\n",
    "engine=pyttsx3.init()\n",
    "\n",
    "prompt1=input('yes')\n",
    "if prompt1 == 'hello':\n",
    "    engine.say('hello today is thursday')\n",
    "    engine.runAndWait()"
   ]
  }
 ],
 "metadata": {
  "kernelspec": {
   "display_name": "Python 3",
   "language": "python",
   "name": "python3"
  },
  "language_info": {
   "codemirror_mode": {
    "name": "ipython",
    "version": 3
   },
   "file_extension": ".py",
   "mimetype": "text/x-python",
   "name": "python",
   "nbconvert_exporter": "python",
   "pygments_lexer": "ipython3",
   "version": "3.9.1"
  }
 },
 "nbformat": 4,
 "nbformat_minor": 5
}
