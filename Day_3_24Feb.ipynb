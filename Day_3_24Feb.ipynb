{
 "cells": [
  {
   "cell_type": "code",
   "execution_count": 56,
   "id": "spread-shore",
   "metadata": {},
   "outputs": [
    {
     "data": {
      "text/plain": [
       "dict"
      ]
     },
     "execution_count": 56,
     "metadata": {},
     "output_type": "execute_result"
    }
   ],
   "source": [
    "# accessing elements in nested dicts or sequence dt in another\n",
    "team = {\n",
    "    \"Trainees\" : {\n",
    "    \"Trainee 1\" : {\n",
    "        \"Name\" : \"Gurjeet\",\n",
    "        \"Level\" : \"Trainee\",\n",
    "        \"Emp_code\" : 1111\n",
    "    },\n",
    "    \"Trainee 2\" : {\n",
    "        \"Name\" : \"Pragati\",\n",
    "        \"Level\" : \"Trainee\",\n",
    "        \"Emp_code\" : 2222\n",
    "    },\n",
    "    \"Trainee 3\" : {\n",
    "        \"Name\" : \"Pratik\",\n",
    "        \"Level\" : \"Trainee\",\n",
    "        \"Emp_code\" : 3333\n",
    "    }\n",
    "},\n",
    "    \"Trainer\" : {\n",
    "        \"Trainer 1\" : {\n",
    "            \"Name\" : \"Anshuman\",\n",
    "            \"Level\" : \"Sr Spl Azure\",\n",
    "            \"Emp_code\" : 4444\n",
    "        },\n",
    "         \"Trainer 2\" : {\n",
    "            \"Name\" : \"Sandeep\",\n",
    "            \"Level\" : \"Sr Spl AWS\",\n",
    "            \"Emp_code\" : 5555\n",
    "        },\n",
    "        \n",
    "    },\n",
    "        \"AWS\" : {\n",
    "        \"ER 1\" : {\n",
    "            \"Name\" : \"Srinivas\",\n",
    "            \"Level\" : \"Sr Spl AWS\",\n",
    "            \"Emp_code\" : 6666\n",
    "        },\n",
    "         \"ER 2\" : {\n",
    "            \"Name\" : \"Satish\",\n",
    "            \"Level\" : \"Sr Spl AWS\",\n",
    "            \"Emp_code\" : 5555\n",
    "        },\n",
    "        \n",
    "    }\n",
    "}\n",
    "type(team)\n",
    "# print(team[2])"
   ]
  },
  {
   "cell_type": "code",
   "execution_count": 51,
   "id": "foreign-brick",
   "metadata": {},
   "outputs": [
    {
     "name": "stdout",
     "output_type": "stream",
     "text": [
      "Anshuman\n",
      "Gurjeet\n",
      "Satish\n"
     ]
    }
   ],
   "source": [
    "print(team[\"Trainer\"][\"Trainer 1\"][\"Name\"])\n",
    "print(team[\"Trainees\"][\"Trainee 1\"][\"Name\"])\n",
    "print(team[\"AWS\"][\"ER 2\"][\"Name\"])"
   ]
  },
  {
   "cell_type": "code",
   "execution_count": 42,
   "id": "duplicate-arbor",
   "metadata": {},
   "outputs": [
    {
     "name": "stdout",
     "output_type": "stream",
     "text": [
      "15012\n"
     ]
    }
   ],
   "source": [
    "foo = {\n",
    "    \"logged_in\":True,\n",
    "    \"town\":\"Dublin\",\n",
    "    \"state\":\"Ohio\",\n",
    "    \"country\":\"USA\",\n",
    "    \"products\":2,\n",
    "    \n",
    "    \"0\" : {\n",
    "        \"pic_id\" : 1500,\n",
    "        \"description\":\"Picture of a computer\",\n",
    "        \"localion\":\"img.cloudimages.us/2012/06/02/computer.jpg\",\n",
    "        \"type\":\"jpg\",\n",
    "        \"childrenimages\":2,\n",
    "\n",
    "        \"0\" : {\n",
    "        \"pic_id\" : 15011,\n",
    "        \"description\":\"Picture of a cpu\",\n",
    "        \"localion\":\"img.cloudimages.us/2012/06/02/mycpu.png\",\n",
    "        \"type\":\"png\"\n",
    "          },\n",
    "        \"1\": {\n",
    "        \"pic_id\" : 15012,\n",
    "        \"description\":\"Picture of a cpu two\",\n",
    "        \"localion\":\"img.cloudimages.us/2012/06/02/thiscpu.png\",\n",
    "        \"type\":\"png\"\n",
    "          }\n",
    "    },\n",
    "    \"1\":{\n",
    "        \"pic_id\" : 1501,\n",
    "        \"description\":\"Picture of a cpu\",\n",
    "        \"localion\":\"img.cloudimages.us/2012/06/02/cpu.png\",\n",
    "        \"type\":\"png\"\n",
    "    },\n",
    "}\n",
    "print(foo[\"0\"][\"1\"][\"pic_id\"])"
   ]
  },
  {
   "cell_type": "code",
   "execution_count": 156,
   "id": "under-reception",
   "metadata": {},
   "outputs": [
    {
     "name": "stdout",
     "output_type": "stream",
     "text": [
      "{1, 2, 3, 1.1, 'C', 2.2, 'A', 'B'}\n",
      "8\n",
      "<class 'set'>\n"
     ]
    }
   ],
   "source": [
    "# sets in python -> set_name = {}\n",
    "\"\"\"\n",
    "sets are - \n",
    "immutable\n",
    "unordered\n",
    "can store multiple DTs\n",
    "doesnt allow duplicates\n",
    "once items are added cannot be changed only can be added\n",
    "\"\"\"\n",
    "my_set = {1, 2, 3, True, \"A\", \"B\", \"C\", 1.1, 2.2}\n",
    "print(my_set)\n",
    "print(len(my_set))\n",
    "print(type(my_set))"
   ]
  },
  {
   "cell_type": "code",
   "execution_count": 157,
   "id": "secure-rebate",
   "metadata": {},
   "outputs": [
    {
     "name": "stdout",
     "output_type": "stream",
     "text": [
      "{1, 2, 3, 1.1, 'C', 2.2, 'A', 'B'}\n",
      "{1, 2, 3, 1.1, 'C', 2.2, 100, 'A', 'B'}\n"
     ]
    }
   ],
   "source": [
    "# adding item in set -> set_name.add(Value)\n",
    "\n",
    "print(my_set)\n",
    "my_set.add(100)\n",
    "# my_set.update([200,300,400])\n",
    "print(my_set)"
   ]
  },
  {
   "cell_type": "code",
   "execution_count": 82,
   "id": "behavioral-cartoon",
   "metadata": {},
   "outputs": [
    {
     "name": "stdout",
     "output_type": "stream",
     "text": [
      "{'a', 'c', 'b'}\n",
      "{1, 2, 3, 1.1, 'C', 2.2, 'b', 'A', 'B', 'c', 200, 300, 100, 'a'}\n",
      "{1, 2, 3, 1.1, 'C', 2.2, 'b', 200, 'A', 'B', 100, 'c', 300, 'a'}\n"
     ]
    }
   ],
   "source": [
    "# joining two or more sets -> set_name.update(new_set, or any other sequence DT)\n",
    "\n",
    "my_set_1 = {\"a\", \"b\", \"c\"}\n",
    "my_list = [100, 200, 300]\n",
    "print(my_set_1)\n",
    "print(my_set)\n",
    "my_set.update(my_set_1, my_list)\n",
    "print(my_set)"
   ]
  },
  {
   "cell_type": "code",
   "execution_count": 83,
   "id": "talented-cooler",
   "metadata": {},
   "outputs": [
    {
     "name": "stdout",
     "output_type": "stream",
     "text": [
      "{1, 2, 3, 1.1, 'C', 2.2, 'b', 200, 'A', 'B', 'c', 300, 'a'}\n"
     ]
    }
   ],
   "source": [
    "# removing an item from set -> set_name.remove(Value)\n",
    "# remove will give an error if item doesnt exist\n",
    "\n",
    "my_set.remove(100)\n",
    "print(my_set)"
   ]
  },
  {
   "cell_type": "code",
   "execution_count": 85,
   "id": "packed-airline",
   "metadata": {},
   "outputs": [
    {
     "ename": "KeyError",
     "evalue": "100",
     "output_type": "error",
     "traceback": [
      "\u001b[1;31m---------------------------------------------------------------------------\u001b[0m",
      "\u001b[1;31mKeyError\u001b[0m                                  Traceback (most recent call last)",
      "\u001b[1;32m<ipython-input-85-c9b32a98ed33>\u001b[0m in \u001b[0;36m<module>\u001b[1;34m\u001b[0m\n\u001b[0;32m      3\u001b[0m \u001b[1;33m\u001b[0m\u001b[0m\n\u001b[0;32m      4\u001b[0m \u001b[0mmy_set\u001b[0m\u001b[1;33m.\u001b[0m\u001b[0mdiscard\u001b[0m\u001b[1;33m(\u001b[0m\u001b[1;36m100\u001b[0m\u001b[1;33m)\u001b[0m\u001b[1;33m\u001b[0m\u001b[1;33m\u001b[0m\u001b[0m\n\u001b[1;32m----> 5\u001b[1;33m \u001b[0mmy_set\u001b[0m\u001b[1;33m.\u001b[0m\u001b[0mremove\u001b[0m\u001b[1;33m(\u001b[0m\u001b[1;36m100\u001b[0m\u001b[1;33m)\u001b[0m\u001b[1;33m\u001b[0m\u001b[1;33m\u001b[0m\u001b[0m\n\u001b[0m",
      "\u001b[1;31mKeyError\u001b[0m: 100"
     ]
    }
   ],
   "source": [
    "# removing an item from set -> set_name.discard(Value)\n",
    "# discard wont give an error when we use discard\n",
    "\n",
    "my_set.discard(100)\n",
    "my_set.remove(100)"
   ]
  },
  {
   "cell_type": "code",
   "execution_count": 88,
   "id": "postal-group",
   "metadata": {},
   "outputs": [
    {
     "name": "stdout",
     "output_type": "stream",
     "text": [
      "{3, 1.1, 'C', 2.2, 'b', 200, 'A', 'B', 'c', 300, 'a'}\n"
     ]
    }
   ],
   "source": [
    "# removing an item with pop it will pop random value -> set_name.pop()\n",
    "\n",
    "my_set.pop()\n",
    "print(my_set)"
   ]
  },
  {
   "cell_type": "code",
   "execution_count": 90,
   "id": "freelance-bishop",
   "metadata": {},
   "outputs": [
    {
     "name": "stdout",
     "output_type": "stream",
     "text": [
      "{1, 2, 3, 4}\n",
      "set()\n"
     ]
    }
   ],
   "source": [
    "# clearing all the items from the set -> set_name.clear() || del set_name will completely delete the set\n",
    "\n",
    "my_new_set = {1, 2, 3, 4}\n",
    "print(my_new_set)\n",
    "my_new_set.clear()\n",
    "print(my_new_set)"
   ]
  },
  {
   "cell_type": "code",
   "execution_count": 95,
   "id": "yellow-requirement",
   "metadata": {},
   "outputs": [
    {
     "name": "stdout",
     "output_type": "stream",
     "text": [
      "3\n",
      "1.1\n",
      "C\n",
      "2.2\n",
      "b\n",
      "200\n",
      "A\n",
      "B\n",
      "c\n",
      "300\n",
      "a\n"
     ]
    }
   ],
   "source": [
    "# iterating through the set\n",
    "\n",
    "for i in my_set:\n",
    "    print(i)\n"
   ]
  },
  {
   "cell_type": "code",
   "execution_count": 98,
   "id": "recorded-ethnic",
   "metadata": {},
   "outputs": [
    {
     "name": "stdout",
     "output_type": "stream",
     "text": [
      "{1, 2, 3, 4, 5}\n"
     ]
    }
   ],
   "source": [
    "# joining two sets -> set_name = set_name.union(set_name) \n",
    "# union -> excludes the common element present in both the sets\n",
    "\n",
    "set_1 = {1, 2, 3}\n",
    "set_2 = {4, 3, 5, 2}\n",
    "set_1 = set_1.union(set_2)\n",
    "print(set_1)"
   ]
  },
  {
   "cell_type": "code",
   "execution_count": 108,
   "id": "leading-flush",
   "metadata": {},
   "outputs": [
    {
     "name": "stdout",
     "output_type": "stream",
     "text": [
      "{2, 3}\n"
     ]
    }
   ],
   "source": [
    "# to keep elements that are present in both sets -> set_name.intersection_update(set_name)\n",
    "# it keeps common elements of both elements\n",
    "\n",
    "set_1 = {1, 2, 3}\n",
    "set_2 = {4, 3, 5, 2}\n",
    "set_1.intersection_update(set_2)\n",
    "print(set_1)"
   ]
  },
  {
   "cell_type": "code",
   "execution_count": 130,
   "id": "established-article",
   "metadata": {},
   "outputs": [
    {
     "name": "stdout",
     "output_type": "stream",
     "text": [
      "{1, 4, 5}\n"
     ]
    }
   ],
   "source": [
    "# to keep only distinct elements from both the sets -> set_name.symmetric_difference_update(set_name)\n",
    "\n",
    "set_1 = {1, 2, 3}\n",
    "set_2 = {4, 3, 5, 2}\n",
    "set_1.symmetric_difference_update(set_2)\n",
    "print(set_1)"
   ]
  },
  {
   "cell_type": "code",
   "execution_count": 131,
   "id": "related-passage",
   "metadata": {},
   "outputs": [
    {
     "name": "stdout",
     "output_type": "stream",
     "text": [
      "{1, 4, 5}\n"
     ]
    }
   ],
   "source": [
    "# to keep only distinct elements from both the sets -> set_name.symmetric_difference_update(set_name)\n",
    "\n",
    "set_1 = {1, 2, 3}\n",
    "set_2 = {4, 3, 5, 2}\n",
    "new_set = set_1.symmetric_difference(set_2)\n",
    "print(new_set)"
   ]
  },
  {
   "cell_type": "code",
   "execution_count": 122,
   "id": "found-catalyst",
   "metadata": {},
   "outputs": [
    {
     "name": "stdout",
     "output_type": "stream",
     "text": [
      "{1}\n"
     ]
    }
   ],
   "source": [
    "# to return the value of first set that are NOT in second -> set_1.difference(set_2)\n",
    " \n",
    "set_1 = {1, 2, 3}\n",
    "set_2 = {4, 3, 5, 2}\n",
    "new_set = set_1.difference(set_2)\n",
    "print(new_set)"
   ]
  },
  {
   "cell_type": "code",
   "execution_count": 150,
   "id": "employed-pointer",
   "metadata": {},
   "outputs": [
    {
     "name": "stdout",
     "output_type": "stream",
     "text": [
      "{1, 6}\n"
     ]
    }
   ],
   "source": [
    "# discard values from one set that are present in another -> set_name.difference_update(set_name)\n",
    "\n",
    "set_1 = {1, 2, 3, 6}\n",
    "set_2 = {4, 3, 5, 2}\n",
    "set_1.difference_update(set_2)\n",
    "print(set_1)"
   ]
  },
  {
   "cell_type": "code",
   "execution_count": 149,
   "id": "color-minimum",
   "metadata": {},
   "outputs": [
    {
     "name": "stdout",
     "output_type": "stream",
     "text": [
      "False\n",
      "True\n"
     ]
    }
   ],
   "source": [
    "# if both sets are having unique elements then \"True else False\" -> print(set_1.isdisjoint(set_2))\n",
    "\n",
    "\"\"\"\n",
    "True -> if both sets has unique elements\n",
    "False -> if both sets doesnt' have unique elements\n",
    "\"\"\"\n",
    "\n",
    "set_1 = {1, 2, 3, 6}\n",
    "set_2 = {4, 5, 2, 3}\n",
    "set_3 = {10, 20}\n",
    "\n",
    "print(set_1.isdisjoint(set_2))\n",
    "print(set_1.isdisjoint(set_3))"
   ]
  },
  {
   "cell_type": "code",
   "execution_count": 147,
   "id": "structural-printer",
   "metadata": {},
   "outputs": [
    {
     "name": "stdout",
     "output_type": "stream",
     "text": [
      "True\n",
      "False\n"
     ]
    }
   ],
   "source": [
    "# to check for the subset -> set_1.issubset(set_2)\n",
    "\n",
    "\"\"\"\n",
    "True -> if all values of set-1 is present in set-2\n",
    "False -> if all values of set-1 is not present in set-2\n",
    "\"\"\"\n",
    "set_1 = {2, 3, 4}\n",
    "set_2 = {4, 5, 2, 3}\n",
    "set_3 = {2, 3, 5, 6, 7}\n",
    "\n",
    "print(set_1.issubset(set_2))\n",
    "print(set_1.issubset(set_3))"
   ]
  },
  {
   "cell_type": "code",
   "execution_count": 152,
   "id": "victorian-overall",
   "metadata": {},
   "outputs": [
    {
     "data": {
      "text/plain": [
       "True"
      ]
     },
     "execution_count": 152,
     "metadata": {},
     "output_type": "execute_result"
    }
   ],
   "source": [
    "# to check if the value of second set are available in first set -> set_1.issuperset(set_2)\n",
    "\n",
    "set_1 = {2, 3, 4}\n",
    "set_2 = {4, 5, 2, 3}\n",
    "set_3 = {2, 3, 5, 6, 7}\n",
    "set_2.issuperset(set_1)"
   ]
  },
  {
   "cell_type": "code",
   "execution_count": 167,
   "id": "excited-ultimate",
   "metadata": {},
   "outputs": [
    {
     "name": "stdout",
     "output_type": "stream",
     "text": [
      "41\n"
     ]
    }
   ],
   "source": [
    "import random\n",
    "x = random.randint(1,100)\n",
    "print(x)"
   ]
  }
 ],
 "metadata": {
  "kernelspec": {
   "display_name": "Python 3",
   "language": "python",
   "name": "python3"
  },
  "language_info": {
   "codemirror_mode": {
    "name": "ipython",
    "version": 3
   },
   "file_extension": ".py",
   "mimetype": "text/x-python",
   "name": "python",
   "nbconvert_exporter": "python",
   "pygments_lexer": "ipython3",
   "version": "3.9.1"
  }
 },
 "nbformat": 4,
 "nbformat_minor": 5
}
